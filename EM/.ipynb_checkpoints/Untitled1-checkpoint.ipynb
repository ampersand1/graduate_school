{
 "cells": [
  {
   "cell_type": "code",
   "execution_count": null,
   "metadata": {
    "collapsed": false
   },
   "outputs": [
    {
     "name": "stdout",
     "output_type": "stream",
     "text": [
      "nx= 201  ny= 8241\n"
     ]
    }
   ],
   "source": [
    "import matplotlib.pyplot as plt\n",
    "#from matplotlib.lines import Line2D\n",
    "import numpy as np\n",
    "import os\n",
    "from pylab import *\n",
    "#from matplotlib import ticker\n",
    "from matplotlib.colors import LogNorm\n",
    "plt.rc('text', usetex=False)\n",
    "\n",
    "from matplotlib import ticker\n",
    "from matplotlib.ticker import ScalarFormatter\n",
    "sformatter=ScalarFormatter(useOffset=True,useMathText=True)\n",
    "sformatter.set_scientific(True)\n",
    "sformatter.set_powerlimits((-2,3))\n",
    "\n",
    "datafilename='phi.dat'\n",
    "slposition='upperright'\n",
    "outputfilename='phi.pdf'\n",
    "\n",
    "myfontsize=16\n",
    "\n",
    "plt.figure(figsize=(10,6))\n",
    "fig = plt.figure(1)\n",
    "\n",
    "data = np.loadtxt('phi.dat',skiprows=0,comments='#')\n",
    "nx = data[0].size\n",
    "ny = data.size\n",
    "print('nx=',nx,' ny=',ny)\n",
    "\n",
    "ymin=0\n",
    "ymax=200\n",
    "xmin=0\n",
    "xmax=1000\n",
    "\n",
    "ax = fig.add_axes([0.08,0.11,0.88,0.84])\n",
    "\n",
    "ax.tick_params(axis='y',which='both',left='on',labelleft='on',labelright='off', labelsize=myfontsize)\n",
    "ax.set_yticks(np.arange(ymin,ymax*1.01,(ymax-ymin)/2), minor=False)\n",
    "ax.set_yticklabels([ymin,(ymin+ymax)/2,ymax], minor=False, family='sans',rotation=90)\n",
    "ax.yaxis.set_major_formatter(ticker.FormatStrFormatter('%d'))\n",
    "ax.set_ylabel('Y',size=1.4*myfontsize, family='sans')\n",
    "\n",
    "ax.tick_params(axis='x',which='both',bottom='off',top='on',labelbottom='on', labeltop='off',labelsize=myfontsize)\n",
    "ax.set_xticks(np.arange(xmin,xmax*1.01,(xmax-xmin)/2), minor=False)\n",
    "ax.set_xticklabels([xmin,(xmax+xmin)/2,xmax], minor=False, family='sans', size=myfontsize)\n",
    "ax.xaxis.set_major_formatter(ticker.FormatStrFormatter('%d'))\n",
    "ax.set_xlabel('X',size=1.4*myfontsize, family='sans')\n",
    "\n",
    "plt.xlim(xmin,xmax)\n",
    "plt.ylim(ymin,ymax)\n",
    "\n",
    "maxV = np.nanmax(data)\n",
    "level1=maxV*0.1\n",
    "level2=maxV*0.2\n",
    "level3=maxV*0.3\n",
    "level4=maxV*0.4\n",
    "level5=maxV*0.5\n",
    "level6=maxV*0.6\n",
    "level7=maxV*0.7\n",
    "level8=maxV*0.8\n",
    "level9=maxV*0.9\n",
    "\n",
    "cmap = plt.cm.get_cmap(\"bone\")\n",
    "#ax.contour(data,extent=[xmin,xmax,ymin,ymax], linewidths=3,levels=(level1,level2,level3,level4,level5,level6,level7,level8,level9))\n",
    "ax.contour(data,extent=[xmin,xmax,ymin,ymax], linewidths=3,levels=arange(0.1*maxV,maxV,0.1*maxV))\n",
    "ax.contourf(data,extent=[xmin,xmax,ymin,ymax],cmap=cmap,levels=arange(0,0.9*maxV,0.1*maxV))\n",
    "      \n",
    "plt.show()\n",
    "plt.savefig(outputfilename,format='pdf')\n",
    "#os.system(\"open -a Preview \"+outputfilename)\n",
    "\n",
    "quit()"
   ]
  },
  {
   "cell_type": "code",
   "execution_count": null,
   "metadata": {
    "collapsed": true
   },
   "outputs": [],
   "source": []
  }
 ],
 "metadata": {
  "anaconda-cloud": {},
  "kernelspec": {
   "display_name": "VPython",
   "language": "python",
   "name": "vpython"
  },
  "language_info": {
   "codemirror_mode": {
    "name": "ipython",
    "version": 3
   },
   "file_extension": ".py",
   "mimetype": "text/x-python",
   "name": "python",
   "nbconvert_exporter": "python",
   "pygments_lexer": "ipython3",
   "version": "3.5.2"
  }
 },
 "nbformat": 4,
 "nbformat_minor": 0
}
