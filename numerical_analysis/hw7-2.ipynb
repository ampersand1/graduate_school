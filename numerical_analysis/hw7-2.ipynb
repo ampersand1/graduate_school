{
 "cells": [
  {
   "cell_type": "code",
   "execution_count": 2,
   "metadata": {
    "collapsed": true
   },
   "outputs": [],
   "source": [
    "import numpy as np                \n",
    "import matplotlib.pyplot as plt\n",
    "from numpy import linalg as LA\n",
    "import scipy.linalg"
   ]
  },
  {
   "cell_type": "code",
   "execution_count": null,
   "metadata": {
    "collapsed": false
   },
   "outputs": [],
   "source": [
    "T = 1.0\n",
    "h= 0.1\n",
    "m= int((1/h)-1)\n",
    "k=0.001\n",
    "N=int(T/k)\n",
    "\n",
    "\n",
    "def Anewcreate(mc):\n",
    "    Anew = np.eye(mc,mc)*-2+np.eye(mc,mc,k=-1)+np.eye(mc,mc,k=1)\n",
    "    #Anew = Anew*(1/(h*h))\n",
    "    return Anew\n",
    "\n",
    "\n",
    "xvalues= []\n",
    "for i in range(0,m+2):\n",
    "    number = i*h \n",
    "    xvalues.append(number)\n",
    "    \n",
    "###################################################################\n",
    "\n",
    "\n",
    "A= Anewcreate(m)\n",
    "l=1\n",
    "U = np.zeros((m,1))\n",
    "U0_05= np.zeros((m,1))\n",
    "U0_1= np.zeros((m,1))\n",
    "U0_5= np.zeros((m,1))\n",
    "\n",
    "\n",
    "for i in range(1,m+1):\n",
    "    U[l-1][0] = np.sin(i*h*np.pi)\n",
    "    l=l+1  \n",
    "\n",
    "#print(U)\n",
    "\n",
    "for j in range(0, N):\n",
    "    Unew=U+k*np.dot(A,U)\n",
    "    #print(Unew)\n",
    "    if j*k == 0.05 :\n",
    "        U0_05 = Unew\n",
    "    if j*k == 0.1 :\n",
    "        U0_1 = Unew\n",
    "    if j*k == 0.5 :\n",
    "        U0_5 = Unew\n",
    "    U=Unew\n",
    "U=U.flatten()\n",
    "U0_05=U0_05.flatten()\n",
    "U0_1 = U0_1.flatten()\n",
    "U0_5 = U0_5.flatten()\n",
    "\n",
    "U= U.tolist()\n",
    "U0_05=  U0_05.tolist()\n",
    "U0_1=  U0_1.tolist()\n",
    "U0_5=  U0_5.tolist()\n",
    "\n",
    "U.insert(0,0)\n",
    "U0_05.insert(0, 0)\n",
    "U0_1.insert(0, 0)\n",
    "U0_5.insert(0, 0)\n",
    "\n",
    "U.append(0)\n",
    "U0_05.append(0)\n",
    "U0_1.append(0)\n",
    "U0_5.append(0)\n",
    "\n",
    "\n",
    "plt.plot(xvalues, U0_05, 'ro', xvalues, U0_1,'mo',xvalues,U0_5,'yo', xvalues,U, 'ko')\n",
    "plt.axis([0, 1, 0, 1])\n",
    "plt.show()\n"
   ]
  },
  {
   "cell_type": "code",
   "execution_count": 5,
   "metadata": {
    "collapsed": false
   },
   "outputs": [],
   "source": [
    "T = 1.0\n",
    "h= 0.01\n",
    "m= int((1/h)-1)\n",
    "h=1/(m+1)\n",
    "k=0.00001\n",
    "N=int(T/k)\n",
    "\n",
    "xvalues= []\n",
    "for i in range(0,m+2):\n",
    "    number = i*h \n",
    "    xvalues.append(number)\n",
    "    \n",
    "    \n",
    "\n",
    "A= Anewcreate(m)\n",
    "l=1\n",
    "U = np.zeros((m,1))\n",
    "\n",
    "for i in range(1,m+1):\n",
    "    U[l-1][0] = np.sin(i*h*np.pi)\n",
    "    l=l+1  \n",
    "\n",
    "\n",
    "for j in range(0, N):\n",
    "    Unew=U+k*np.dot(A,U)\n",
    "    if j*k == 0.05 :\n",
    "        U0_05 = Unew\n",
    "    if j*k == 0.1 :\n",
    "        U0_1 = Unew\n",
    "    if j*k == 0.5 :\n",
    "        U0_5 = Unew\n",
    "    U=Unew\n",
    "\n",
    "U = U.flatten()       \n",
    "U0_05=U0_05.flatten()\n",
    "U0_1 = U0_1.flatten()\n",
    "U0_5 = U0_5.flatten()\n",
    "\n",
    "U= U.tolist()\n",
    "U0_05=  U0_05.tolist()\n",
    "U0_1=  U0_1.tolist()\n",
    "U0_5=  U0_5.tolist()\n",
    "\n",
    "U.insert(0,0)\n",
    "U0_05.insert(0, 0)\n",
    "U0_1.insert(0, 0)\n",
    "U0_5.insert(0, 0)\n",
    "\n",
    "U.append(0)\n",
    "U0_05.append(0)\n",
    "U0_1.append(0)\n",
    "U0_5.append(0)\n",
    "\n",
    "\n",
    "plt.plot(xvalues, U0_05, 'ro', xvalues, U0_1,'mo',xvalues,U0_5,'yo',xvalues,U, 'ko')\n",
    "plt.axis([0, 1, 0, 1])\n",
    "plt.show()\n"
   ]
  },
  {
   "cell_type": "code",
   "execution_count": null,
   "metadata": {
    "collapsed": true
   },
   "outputs": [],
   "source": [
    "plt.close('all')"
   ]
  },
  {
   "cell_type": "code",
   "execution_count": null,
   "metadata": {
    "collapsed": true
   },
   "outputs": [],
   "source": []
  },
  {
   "cell_type": "code",
   "execution_count": null,
   "metadata": {
    "collapsed": true
   },
   "outputs": [],
   "source": []
  }
 ],
 "metadata": {
  "anaconda-cloud": {},
  "kernelspec": {
   "display_name": "VPython",
   "language": "python",
   "name": "vpython"
  },
  "language_info": {
   "codemirror_mode": {
    "name": "ipython",
    "version": 3
   },
   "file_extension": ".py",
   "mimetype": "text/x-python",
   "name": "python",
   "nbconvert_exporter": "python",
   "pygments_lexer": "ipython3",
   "version": "3.5.2"
  }
 },
 "nbformat": 4,
 "nbformat_minor": 0
}
