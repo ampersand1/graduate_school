{
 "cells": [
  {
   "cell_type": "code",
   "execution_count": 83,
   "metadata": {
    "collapsed": false
   },
   "outputs": [],
   "source": [
    "import numpy as np                \n",
    "import matplotlib.pyplot as plt\n",
    "from numpy import linalg as LA\n",
    "import scipy.linalg\n",
    "\n",
    "h=0.01\n",
    "n=int((1.0/h)-1)\n",
    "tol = 0.00001 \n",
    "kmax= 1000\n",
    "\n",
    "\n",
    "A = np.eye(n*n)*-4+np.eye(n*n,n*n,k=n) + np.eye(n*n,n*n,k=-n)+np.eye(n*n,n*n,k=1)+np.eye(n*n,n*n,k=-1)\n",
    "#print(A)\n",
    "\n",
    "for i in range(len(A)):\n",
    "    if i > 0 and i% n == 0:\n",
    "        A[i-1][i]=0\n",
    "        A[i][i-1]=0       \n",
    "#print(A) #for testing\n",
    "\n",
    "u=np.zeros((n*n,1)) \n",
    "#print(u)\n",
    "\n",
    "f = np.zeros((n*n,1))\n",
    "\n",
    "i=1\n",
    "while i < n*n+1:\n",
    "    for j in range(1,n+1):\n",
    "        f[i-1][0] = -2.0*np.pi*np.pi*np.sin(i*h*np.pi)*np.sin(j*h*np.pi)\n",
    "        i=i+1\n",
    "        \n",
    "Utrue = np.zeros((n*n,1))        \n",
    "i=1\n",
    "while i < n*n+1:\n",
    "    for j in range(1,n+1):\n",
    "        Utrue[i-1][0] = np.sin(i*h*np.pi)*np.sin(j*h*np.pi)\n",
    "        i=i+1\n",
    "    \n",
    "#print(f)\n",
    "#np.dot(A,u)\n",
    "rold = np.subtract(f,np.dot(A,u))\n",
    "p=rold\n",
    "file = open('/Users/jasmin/Documents/cmse841/hw6/cg2.dat', 'r+')\n",
    "error1 = np.amax(abs(Utrue))   \n",
    "file.write('0' + '\\t' + repr(error1)+ '\\n')\n",
    "\n",
    "for k in range(1,kmax):\n",
    "    w= np.dot(A,p)\n",
    "    alpha1 = np.dot(rold.transpose(),rold)\n",
    "    alpha2 = np.dot(p.transpose(),w)\n",
    "    alpha = alpha1/alpha2\n",
    "    u= np.add(u, alpha*p)\n",
    "    r= np.subtract(rold, alpha*w)\n",
    "    if LA.norm(r) < tol : \n",
    "        break\n",
    "    beta= np.dot(r.transpose(),r)/np.dot(rold.transpose(),rold)\n",
    "    p=np.add(r,beta*p)\n",
    "    rold=r\n",
    "    error = np.amax(abs(np.subtract(Utrue,u)))/error1\n",
    "    file.write(repr(k)+ '\\t \\t'+ repr(error)+ '\\n')\n",
    "\n",
    "#print(u)\n"
   ]
  },
  {
   "cell_type": "code",
   "execution_count": 6,
   "metadata": {
    "collapsed": false
   },
   "outputs": [
    {
     "ename": "IndexError",
     "evalue": "index 1 is out of bounds for axis 0 with size 1",
     "output_type": "error",
     "traceback": [
      "\u001b[0;31m---------------------------------------------------------------------------\u001b[0m",
      "\u001b[0;31mIndexError\u001b[0m                                Traceback (most recent call last)",
      "\u001b[0;32m<ipython-input-6-bb1dfbd2f01e>\u001b[0m in \u001b[0;36m<module>\u001b[0;34m()\u001b[0m\n\u001b[1;32m     35\u001b[0m \u001b[0;34m\u001b[0m\u001b[0m\n\u001b[1;32m     36\u001b[0m \u001b[0;34m\u001b[0m\u001b[0m\n\u001b[0;32m---> 37\u001b[0;31m \u001b[0mAu\u001b[0m\u001b[0;34m=\u001b[0m \u001b[0mAmult\u001b[0m\u001b[0;34m(\u001b[0m\u001b[0mu\u001b[0m\u001b[0;34m)\u001b[0m\u001b[0;34m\u001b[0m\u001b[0m\n\u001b[0m\u001b[1;32m     38\u001b[0m \u001b[0mrold\u001b[0m \u001b[0;34m=\u001b[0m \u001b[0mF\u001b[0m \u001b[0;34m-\u001b[0m \u001b[0mAu\u001b[0m\u001b[0;34m\u001b[0m\u001b[0m\n\u001b[1;32m     39\u001b[0m \u001b[0mp\u001b[0m\u001b[0;34m=\u001b[0m\u001b[0mrold\u001b[0m\u001b[0;34m\u001b[0m\u001b[0m\n",
      "\u001b[0;32m<ipython-input-6-bb1dfbd2f01e>\u001b[0m in \u001b[0;36mAmult\u001b[0;34m(U)\u001b[0m\n\u001b[1;32m     31\u001b[0m    \u001b[0;32mfor\u001b[0m \u001b[0mi\u001b[0m \u001b[0;32min\u001b[0m \u001b[0mrange\u001b[0m\u001b[0;34m(\u001b[0m\u001b[0;36m1\u001b[0m\u001b[0;34m,\u001b[0m\u001b[0mlenU\u001b[0m\u001b[0;34m-\u001b[0m\u001b[0;36m1\u001b[0m\u001b[0;34m)\u001b[0m\u001b[0;34m:\u001b[0m\u001b[0;34m\u001b[0m\u001b[0m\n\u001b[1;32m     32\u001b[0m       \u001b[0;32mfor\u001b[0m \u001b[0mj\u001b[0m \u001b[0;32min\u001b[0m \u001b[0mrange\u001b[0m\u001b[0;34m(\u001b[0m\u001b[0;36m1\u001b[0m\u001b[0;34m,\u001b[0m\u001b[0mlenU\u001b[0m\u001b[0;34m-\u001b[0m\u001b[0;36m1\u001b[0m\u001b[0;34m)\u001b[0m\u001b[0;34m:\u001b[0m\u001b[0;34m\u001b[0m\u001b[0m\n\u001b[0;32m---> 33\u001b[0;31m         \u001b[0mU\u001b[0m\u001b[0;34m[\u001b[0m\u001b[0mi\u001b[0m\u001b[0;34m]\u001b[0m\u001b[0;34m[\u001b[0m\u001b[0mj\u001b[0m\u001b[0;34m]\u001b[0m\u001b[0;34m=\u001b[0m\u001b[0;34m(\u001b[0m\u001b[0;36m1\u001b[0m\u001b[0;34m/\u001b[0m\u001b[0;34m(\u001b[0m\u001b[0mh\u001b[0m\u001b[0;34m*\u001b[0m\u001b[0mh\u001b[0m\u001b[0;34m)\u001b[0m\u001b[0;34m)\u001b[0m\u001b[0;34m*\u001b[0m\u001b[0;34m(\u001b[0m\u001b[0mU\u001b[0m\u001b[0;34m[\u001b[0m\u001b[0mi\u001b[0m\u001b[0;34m-\u001b[0m\u001b[0;36m1\u001b[0m\u001b[0;34m]\u001b[0m\u001b[0;34m[\u001b[0m\u001b[0mj\u001b[0m\u001b[0;34m]\u001b[0m\u001b[0;34m+\u001b[0m\u001b[0mU\u001b[0m\u001b[0;34m[\u001b[0m\u001b[0mi\u001b[0m\u001b[0;34m+\u001b[0m\u001b[0;36m1\u001b[0m\u001b[0;34m]\u001b[0m\u001b[0;34m[\u001b[0m\u001b[0mj\u001b[0m\u001b[0;34m]\u001b[0m\u001b[0;34m+\u001b[0m\u001b[0mU\u001b[0m\u001b[0;34m[\u001b[0m\u001b[0mi\u001b[0m\u001b[0;34m]\u001b[0m\u001b[0;34m[\u001b[0m\u001b[0mj\u001b[0m\u001b[0;34m-\u001b[0m\u001b[0;36m1\u001b[0m\u001b[0;34m]\u001b[0m\u001b[0;34m-\u001b[0m\u001b[0;36m4.0\u001b[0m\u001b[0;34m*\u001b[0m\u001b[0mU\u001b[0m\u001b[0;34m[\u001b[0m\u001b[0mi\u001b[0m\u001b[0;34m]\u001b[0m\u001b[0;34m[\u001b[0m\u001b[0mj\u001b[0m\u001b[0;34m]\u001b[0m\u001b[0;34m)\u001b[0m\u001b[0;34m\u001b[0m\u001b[0m\n\u001b[0m\u001b[1;32m     34\u001b[0m    \u001b[0;32mreturn\u001b[0m \u001b[0mU\u001b[0m\u001b[0;34m\u001b[0m\u001b[0m\n\u001b[1;32m     35\u001b[0m \u001b[0;34m\u001b[0m\u001b[0m\n",
      "\u001b[0;31mIndexError\u001b[0m: index 1 is out of bounds for axis 0 with size 1"
     ]
    }
   ],
   "source": []
  },
  {
   "cell_type": "code",
   "execution_count": 96,
   "metadata": {
    "collapsed": false
   },
   "outputs": [],
   "source": []
  },
  {
   "cell_type": "code",
   "execution_count": 80,
   "metadata": {
    "collapsed": false
   },
   "outputs": [],
   "source": []
  },
  {
   "cell_type": "code",
   "execution_count": 85,
   "metadata": {
    "collapsed": false
   },
   "outputs": [],
   "source": []
  },
  {
   "cell_type": "code",
   "execution_count": 82,
   "metadata": {
    "collapsed": false
   },
   "outputs": [],
   "source": []
  },
  {
   "cell_type": "code",
   "execution_count": 97,
   "metadata": {
    "collapsed": false,
    "scrolled": true
   },
   "outputs": [
    {
     "data": {
      "text/plain": [
       "array([[ -0.00000000e+00,  -0.00000000e+00,  -0.00000000e+00,\n",
       "         -0.00000000e+00,  -0.00000000e+00],\n",
       "       [ -0.00000000e+00,   7.31449858e+39,   1.41573288e+43,\n",
       "          1.43949649e+46,  -7.67400502e-01],\n",
       "       [ -0.00000000e+00,   1.43303192e+42,   2.92000971e+45,\n",
       "          3.11811137e+48,  -1.52713339e+00],\n",
       "       [ -0.00000000e+00,   1.40377392e+44,   3.00375778e+47,\n",
       "          3.36090729e+50,  -2.27160767e+00],\n",
       "       [ -0.00000000e+00,  -7.67400502e-01,  -1.52713339e+00,\n",
       "         -2.27160767e+00,  -2.99338480e+00]])"
      ]
     },
     "execution_count": 97,
     "metadata": {},
     "output_type": "execute_result"
    }
   ],
   "source": []
  },
  {
   "cell_type": "code",
   "execution_count": 84,
   "metadata": {
    "collapsed": false
   },
   "outputs": [
    {
     "data": {
      "text/plain": [
       "array([[  0.00000000e+000,   0.00000000e+000,   0.00000000e+000,\n",
       "          0.00000000e+000,   0.00000000e+000],\n",
       "       [  0.00000000e+000,   5.35018895e+079,   2.02879040e+085,\n",
       "          2.02072763e+090,   5.88903531e-001],\n",
       "       [  0.00000000e+000,   2.02879040e+085,   8.52645669e+090,\n",
       "          9.36605130e+095,   2.33213640e+000],\n",
       "       [  0.00000000e+000,   2.02072763e+090,   9.36605130e+095,\n",
       "          1.12956978e+101,   5.16020141e+000],\n",
       "       [  0.00000000e+000,   5.88903531e-001,   2.33213640e+000,\n",
       "          5.16020141e+000,   8.96035254e+000]])"
      ]
     },
     "execution_count": 84,
     "metadata": {},
     "output_type": "execute_result"
    }
   ],
   "source": []
  },
  {
   "cell_type": "code",
   "execution_count": 10,
   "metadata": {
    "collapsed": false
   },
   "outputs": [
    {
     "ename": "NameError",
     "evalue": "name 'rold' is not defined",
     "output_type": "error",
     "traceback": [
      "\u001b[0;31m---------------------------------------------------------------------------\u001b[0m",
      "\u001b[0;31mNameError\u001b[0m                                 Traceback (most recent call last)",
      "\u001b[0;32m<ipython-input-10-f564bc6d7c8d>\u001b[0m in \u001b[0;36m<module>\u001b[0;34m()\u001b[0m\n\u001b[1;32m      1\u001b[0m \u001b[0;32mfor\u001b[0m \u001b[0mk\u001b[0m \u001b[0;32min\u001b[0m \u001b[0mrange\u001b[0m\u001b[0;34m(\u001b[0m\u001b[0mkmax\u001b[0m\u001b[0;34m)\u001b[0m\u001b[0;34m:\u001b[0m\u001b[0;34m\u001b[0m\u001b[0m\n\u001b[1;32m      2\u001b[0m     \u001b[0mwOld\u001b[0m\u001b[0;34m=\u001b[0m \u001b[0mAmult\u001b[0m\u001b[0;34m(\u001b[0m\u001b[0mp\u001b[0m\u001b[0;34m)\u001b[0m\u001b[0;34m\u001b[0m\u001b[0m\n\u001b[0;32m----> 3\u001b[0;31m     \u001b[0malpha\u001b[0m \u001b[0;34m=\u001b[0m \u001b[0mrold\u001b[0m\u001b[0;34m*\u001b[0m\u001b[0mrold\u001b[0m\u001b[0;34m\u001b[0m\u001b[0m\n\u001b[0m",
      "\u001b[0;31mNameError\u001b[0m: name 'rold' is not defined"
     ]
    }
   ],
   "source": []
  },
  {
   "cell_type": "code",
   "execution_count": null,
   "metadata": {
    "collapsed": true
   },
   "outputs": [],
   "source": []
  }
 ],
 "metadata": {
  "anaconda-cloud": {},
  "kernelspec": {
   "display_name": "VPython",
   "language": "python",
   "name": "vpython"
  },
  "language_info": {
   "codemirror_mode": {
    "name": "ipython",
    "version": 3
   },
   "file_extension": ".py",
   "mimetype": "text/x-python",
   "name": "python",
   "nbconvert_exporter": "python",
   "pygments_lexer": "ipython3",
   "version": "3.5.2"
  }
 },
 "nbformat": 4,
 "nbformat_minor": 0
}
