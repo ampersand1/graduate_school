{
 "cells": [
  {
   "cell_type": "code",
   "execution_count": 2,
   "metadata": {
    "collapsed": true
   },
   "outputs": [],
   "source": [
    "import numpy as np                \n",
    "import matplotlib.pyplot as plt\n",
    "from numpy import linalg as LA\n",
    "import scipy.linalg"
   ]
  },
  {
   "cell_type": "code",
   "execution_count": 1,
   "metadata": {
    "collapsed": false
   },
   "outputs": [],
   "source": [
    "T = 2.0\n",
    "h= 0.01\n",
    "k=0.005\n",
    "\n",
    "m= int((1.0/h)-1)\n",
    "n=int(T/k)\n"
   ]
  },
  {
   "cell_type": "code",
   "execution_count": 57,
   "metadata": {
    "collapsed": false
   },
   "outputs": [],
   "source": [
    "#L-F"
   ]
  },
  {
   "cell_type": "code",
   "execution_count": null,
   "metadata": {
    "collapsed": true
   },
   "outputs": [],
   "source": [
    "#L-W"
   ]
  },
  {
   "cell_type": "code",
   "execution_count": null,
   "metadata": {
    "collapsed": true
   },
   "outputs": [],
   "source": [
    "#Up-wind"
   ]
  },
  {
   "cell_type": "code",
   "execution_count": null,
   "metadata": {
    "collapsed": true
   },
   "outputs": [],
   "source": [
    "#Leap-Frog"
   ]
  },
  {
   "cell_type": "code",
   "execution_count": null,
   "metadata": {
    "collapsed": true
   },
   "outputs": [],
   "source": [
    "T = 1.0\n",
    "h= 0.01\n",
    "m= int((1/h)-1)\n",
    "k=0.005\n",
    "n=int(T/k)\n",
    "\n",
    "def Aadded(mc):\n",
    "    Anew = np.eye(mc,mc)*-2+np.eye(mc,mc,k=-1)+np.eye(mc,mc,k=1)\n",
    "    #Anew = Anew*(1/(h*h))\n",
    "    Anew= (k/2)*Anew + np.eye(mc,mc)\n",
    "    return Anew\n",
    "\n",
    "def Asubtracted(mc):\n",
    "    Anew = np.eye(mc,mc)*-2+np.eye(mc,mc,k=-1)+np.eye(mc,mc,k=1)\n",
    "    #Anew = Anew*(1/(h*h))\n",
    "    Anew= (-k/2)*Anew + np.eye(mc,mc)\n",
    "    return Anew\n",
    "\n",
    "A= Aadded(m+2)\n",
    "B = Asubtracted(m+2)\n",
    "\n",
    "l=0\n",
    "k=0\n",
    "U = np.zeros((m+2,m+2))\n",
    "Ustar=np.zeros((m+2,m+2))\n",
    "Unew=np.zeros((m+2,m+2))\n",
    "\n",
    "\n",
    "for i in range(0,m+1):\n",
    "    for j in range (0,m+1):\n",
    "        U[l][k] = np.sin(i*h*np.pi)*np.sin(j*h*np.pi)\n",
    "        k=k+1\n",
    "    k=0\n",
    "    l=l+1  \n",
    "\n",
    "#print(U)\n",
    "\n",
    "for k in range(n):\n",
    "    for j in range(m+2):\n",
    "        Unew[:][j]= np.dot(A,U[:][j])\n",
    "        Ustar[:][j] = np.dot(LA.inv(B),Unew[:][j])\n",
    "    for i in range(1,m+1):\n",
    "        Ustar[i][:]= np.dot(A,Ustar[i][:])\n",
    "        U[i][:] = np.dot(LA.inv(B),Ustar[i][:])\n",
    "print(U)\n",
    "       "
   ]
  }
 ],
 "metadata": {
  "anaconda-cloud": {},
  "kernelspec": {
   "display_name": "VPython",
   "language": "python",
   "name": "vpython"
  },
  "language_info": {
   "codemirror_mode": {
    "name": "ipython",
    "version": 3
   },
   "file_extension": ".py",
   "mimetype": "text/x-python",
   "name": "python",
   "nbconvert_exporter": "python",
   "pygments_lexer": "ipython3",
   "version": "3.5.2"
  }
 },
 "nbformat": 4,
 "nbformat_minor": 0
}
