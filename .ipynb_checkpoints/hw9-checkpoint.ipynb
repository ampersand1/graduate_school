{
 "cells": [
  {
   "cell_type": "code",
   "execution_count": 47,
   "metadata": {
    "collapsed": true
   },
   "outputs": [],
   "source": [
    "#jshin\n",
    "\n",
    "%matplotlib inline\n",
    "import numpy as np                \n",
    "import matplotlib.pyplot as plt\n",
    "from numpy import linalg as LA\n",
    "import scipy.linalg"
   ]
  },
  {
   "cell_type": "code",
   "execution_count": 48,
   "metadata": {
    "collapsed": false
   },
   "outputs": [],
   "source": [
    "def Acreate1(mc,ka,h):\n",
    "    Anew = -1*np.eye(mc,mc,k=-1)+np.eye(mc,mc,k=1)\n",
    "    Anew[0][mc-1] = -1 \n",
    "    Anew[mc-1][0] = 1 \n",
    "    Anew = -(ka/h)*Anew\n",
    "    return Anew\n",
    "\n",
    "def Acreate2(mc):\n",
    "    Anew = np.eye(mc,mc,k=-1)+np.eye(mc,mc,k=1)\n",
    "    Anew[0][mc-1] = 1 \n",
    "    Anew[mc-1][0] = 1 \n",
    "    Anew = Anew/2\n",
    "    return Anew\n",
    "\n",
    "def Acreate3(mc,ka,h):\n",
    "    Anew = np.eye(mc,mc,k=-1)+np.eye(mc,mc,k=1)+np.eye(mc,mc)*(-2)\n",
    "    Anew[0][mc-1] = 1 \n",
    "    Anew[mc-1][0] = 1 \n",
    "    Anew = (ka/h)*(ka/h)*Anew/2\n",
    "    return Anew\n",
    "\n",
    "#Computes the exact values array at t=2 returns a matrix of size(m+2).  \n",
    "def Uexact(mc,h):\n",
    "    U = np.zeros((mc+1))\n",
    "    for i in range(mc+1):\n",
    "        U[i] = np.sin(2*np.pi*(h*(i+1) - 2.0))\n",
    "    return U\n",
    "\n",
    "#Computes L2 Error.      \n",
    "def Error(U,Uext,h):\n",
    "    Usum =0 \n",
    "    \n",
    "    for i in range(len(U)):\n",
    "        Usum = Usum + abs((Uext[i]-U[i]))**2 \n",
    "    Usum = h*Usum\n",
    "    Usum = Usum**(0.5)\n",
    "    return Usum \n",
    "\n",
    "#creates initial array \n",
    "def CreateInitial(mc,h):    \n",
    "    U = np.zeros((mc+1))\n",
    "    for i in range(mc+1):\n",
    "        U[i]= np.sin(2*(i+1)*h*np.pi)\n",
    "    U= np.array(U)\n",
    "    return U\n",
    "\n",
    "def leapstep(mc,ka,h):\n",
    "    Anew = np.eye(mc,mc,k=-1)+np.eye(mc,mc,k=1)+np.eye(mc,mc,)*(-2)\n",
    "    Anew[0][mc-1] = 1 \n",
    "    Anew[mc-1][0] = 1 \n",
    "    Anew = (ka/(h*h))*Anew\n",
    "    return Anew\n",
    "\n",
    "\n",
    "def leapfrog(h,k):\n",
    "    T = 2.0\n",
    "    m= int((1.0/h)-1)\n",
    "    #print(m)\n",
    "    n=int(T/k)\n",
    "    Uext = Uexact(m,h)\n",
    "    U = CreateInitial(m,h) \n",
    "    A= Acreate1(m+1,k,h)\n",
    "    L= leapstep(m+1,k,h)\n",
    "\n",
    "\n",
    "    #1-step method just for leap frog.  I'll use Method-I P-94:\n",
    "    #Leap Frog.  \n",
    "    Unew= U+ np.dot(L,U) \n",
    "    Uold= U\n",
    "    U = Unew  \n",
    "\n",
    "\n",
    "    #actual leaping of the frog.  \n",
    "    for k in range(n-1):\n",
    "        Unew=Uold + np.dot(A,U)\n",
    "        Uold=U\n",
    "        U= Unew\n",
    "    L2E = Error(U,Uext,h)\n",
    "    return L2E\n"
   ]
  },
  {
   "cell_type": "code",
   "execution_count": 49,
   "metadata": {
    "collapsed": false
   },
   "outputs": [],
   "source": [
    "#LF\n",
    "\n",
    "def lf(h,k): \n",
    "    T = 2.0\n",
    "\n",
    "    #Other variable setting\n",
    "    m= int((1.0/h)-1)\n",
    "    n=int(T/k)\n",
    "\n",
    "    U = CreateInitial(m,h) \n",
    "    Uext = Uexact(m,h)\n",
    "\n",
    "    A1=Acreate1(m+1,k,h)/2\n",
    "    A2=Acreate2(m+1)\n",
    "\n",
    "    for k in range(n):\n",
    "        Unew=np.dot(A2,U)+ np.dot(A1,U)\n",
    "        U = Unew\n",
    "    L2E = Error(U,Uext,h)\n",
    "    return L2E \n"
   ]
  },
  {
   "cell_type": "code",
   "execution_count": 50,
   "metadata": {
    "collapsed": false
   },
   "outputs": [],
   "source": [
    "#LW:\n",
    "\n",
    "def lw(h,k):\n",
    "    #initial values \n",
    "    T = 2.0\n",
    "    #Other variable setting\n",
    "    m= int((1.0/h)-1)\n",
    "    n=int(T/k)\n",
    "\n",
    "    U = CreateInitial(m,h) \n",
    "    Uext = Uexact(m,h)\n",
    "    A1=Acreate1(m+1,k,h)/2\n",
    "    A3=Acreate3(m+1,k,h)\n",
    "\n",
    "    for k in range(n):\n",
    "        Unew=U + np.dot(A1,U)+ np.dot(A3,U)\n",
    "        U = Unew\n",
    "    L2E = Error(U,Uext,h)\n",
    "    return L2E\n"
   ]
  },
  {
   "cell_type": "code",
   "execution_count": 51,
   "metadata": {
    "collapsed": false
   },
   "outputs": [],
   "source": [
    "#UPWind\n",
    "def up(h,k):\n",
    "    T = 2.0\n",
    "\n",
    "    m= int((1.0/h)-1)\n",
    "    n=int(T/k)\n",
    "\n",
    "    U = CreateInitial(m,h) \n",
    "    Uext = Uexact(m,h)\n",
    "    A1=Acreate1(m+1,k,h)\n",
    "\n",
    "    for k in range(n):\n",
    "        Unew=U+np.dot(A1,U)\n",
    "        U = Unew\n",
    "\n",
    "    L2E = Error(U,Uext,h)\n",
    "    return L2E\n"
   ]
  },
  {
   "cell_type": "code",
   "execution_count": 99,
   "metadata": {
    "collapsed": false
   },
   "outputs": [
    {
     "name": "stderr",
     "output_type": "stream",
     "text": [
      "//anaconda/lib/python3.5/site-packages/ipykernel/__main__.py:13: RuntimeWarning: overflow encountered in add\n"
     ]
    }
   ],
   "source": [
    "#different h values for set k.  \n",
    "# k set to whatever \n",
    "\n",
    "hlist = [0.1,0.05,0.01,0.005,0.001]\n",
    "k = 0.001\n",
    "leaplist= [] \n",
    "lflist = []\n",
    "lwlist= []\n",
    "uplist= []\n",
    "\n",
    "for x in hlist:\n",
    "    leaplist.append(leapfrog(x,k))\n",
    "    lflist.append(lf(x,k))\n",
    "    lwlist.append(lw(x,k))\n",
    "    uplist.append(up(x,k))\n",
    "\n"
   ]
  },
  {
   "cell_type": "code",
   "execution_count": 100,
   "metadata": {
    "collapsed": false
   },
   "outputs": [
    {
     "name": "stdout",
     "output_type": "stream",
     "text": [
      "[0.5409245578948928, 0.13961285604839146, 0.005559075292130955, 0.0013478147701584029, 1.5125778871747042e-11]\n",
      "[0.70710678118654757, 0.70710678118654757, 0.69295013506857339, 0.43299126383508957, 5.7753014603745988e-16]\n",
      "[0.55659134841790137, 0.14506170338464278, 0.0057868592632660202, 0.0014031068363875765, 5.7836668197763236e-16]\n",
      "[1.1038166567764816, 0.33378475614650271, 4.928721897329492, 1.5738665764061756e+48, nan]\n"
     ]
    },
    {
     "data": {
      "image/png": "[encoded data removed]",
      "text/plain": [
       "<matplotlib.figure.Figure at 0x111afc0f0>"
      ]
     },
     "metadata": {},
     "output_type": "display_data"
    }
   ],
   "source": [
    "#plotting \n",
    "\n",
    "print(leaplist)\n",
    "print(lflist)\n",
    "print(lwlist)\n",
    "print(uplist)\n",
    "\n",
    "\n",
    "plt.yscale('log')\n",
    "plt.xscale('log')\n",
    "plt.xlabel('log(h)', fontsize=18)\n",
    "plt.ylabel('log(E)', fontsize=16)\n",
    "plt.title('log(E) vs log(h) for k= 0.001', fontsize=18) \n",
    "plt.plot(hlist,leaplist,hlist,lflist, hlist,lwlist)\n",
    "plt.savefig('k0-001.jpg')\n",
    "plt.show()\n",
    "\n"
   ]
  },
  {
   "cell_type": "code",
   "execution_count": 106,
   "metadata": {
    "collapsed": false
   },
   "outputs": [
    {
     "name": "stderr",
     "output_type": "stream",
     "text": [
      "//anaconda/lib/python3.5/site-packages/ipykernel/__main__.py:34: RuntimeWarning: overflow encountered in double_scalars\n",
      "//anaconda/lib/python3.5/site-packages/ipykernel/__main__.py:16: RuntimeWarning: overflow encountered in add\n",
      "//anaconda/lib/python3.5/site-packages/ipykernel/__main__.py:16: RuntimeWarning: invalid value encountered in add\n",
      "//anaconda/lib/python3.5/site-packages/ipykernel/__main__.py:13: RuntimeWarning: overflow encountered in add\n"
     ]
    }
   ],
   "source": [
    "#different k values for set h.  \n",
    "# h set to different values.\n",
    "\n",
    "klist = [0.1,0.05,0.01,0.001,0.0001]\n",
    "h = 0.001\n",
    "\n",
    "leaplist2= [] \n",
    "lflist2 = []\n",
    "lwlist2= []\n",
    "uplist2= []\n",
    "\n",
    "for x in klist:\n",
    "    leaplist2.append(leapfrog(h,x))\n",
    "    lflist2.append(lf(h,x))\n",
    "    lwlist2.append(lw(h,x))\n",
    "    uplist2.append(up(h,x))\n",
    "    "
   ]
  },
  {
   "cell_type": "code",
   "execution_count": 107,
   "metadata": {
    "collapsed": false
   },
   "outputs": [
    {
     "name": "stdout",
     "output_type": "stream",
     "text": [
      "[3.1724863541254048e+32, 2.4186183192522745e+66, inf, 1.5125778871747042e-11, 5.7652751204321088e-05]\n",
      "[3.2019809462515611e+23, 2.2896331260877658e+51, inf, 5.7753014603745988e-16, 0.22875671594302147]\n",
      "[5.2048482891305976e+69, 2.9696804400438337e+131, nan, 5.7836668197763236e-16, 5.7881220224830027e-05]\n",
      "[3.3589418067438114e+29, 2.525428359847821e+63, inf, nan, inf]\n"
     ]
    },
    {
     "name": "stderr",
     "output_type": "stream",
     "text": [
      "//anaconda/lib/python3.5/site-packages/matplotlib/scale.py:101: RuntimeWarning: invalid value encountered in less_equal\n",
      "  a[a <= 0.0] = 1e-300\n"
     ]
    },
    {
     "data": {
      "image/png": "[encoded data removed]",
      "text/plain": [
       "<matplotlib.figure.Figure at 0x111afc940>"
      ]
     },
     "metadata": {},
     "output_type": "display_data"
    }
   ],
   "source": [
    "#plotting\n",
    "\n",
    "print(leaplist2)\n",
    "print(lflist2)\n",
    "print(lwlist2)\n",
    "print(uplist2)\n",
    "\n",
    "\n",
    "plt.yscale('log')\n",
    "plt.xscale('log')\n",
    "plt.xlabel('log(k)', fontsize=18)\n",
    "plt.ylabel('log(E)', fontsize=16)\n",
    "plt.title('log(E) vs log(k) for h= 0.001', fontsize=18) \n",
    "plt.plot(klist,leaplist2, klist, lflist2, klist, lwlist2, klist, uplist2)\n",
    "plt.savefig('h0_001.png')\n",
    "\n",
    "plt.show()\n"
   ]
  },
  {
   "cell_type": "code",
   "execution_count": 11,
   "metadata": {
    "collapsed": true
   },
   "outputs": [],
   "source": []
  },
  {
   "cell_type": "code",
   "execution_count": null,
   "metadata": {
    "collapsed": true
   },
   "outputs": [],
   "source": []
  }
 ],
 "metadata": {
  "anaconda-cloud": {},
  "kernelspec": {
   "display_name": "VPython",
   "language": "python",
   "name": "vpython"
  },
  "language_info": {
   "codemirror_mode": {
    "name": "ipython",
    "version": 3
   },
   "file_extension": ".py",
   "mimetype": "text/x-python",
   "name": "python",
   "nbconvert_exporter": "python",
   "pygments_lexer": "ipython3",
   "version": "3.5.2"
  }
 },
 "nbformat": 4,
 "nbformat_minor": 0
}
